{
 "cells": [
  {
   "cell_type": "code",
   "execution_count": null,
   "id": "2deb5996",
   "metadata": {},
   "outputs": [],
   "source": [
    "Alabama\t0.37\n",
    "Alaska\t0.97\n",
    "Arizona\t0.39\n",
    "Arkansas\t0.53\n",
    "California\t0.66\n",
    "Colorado\t0.40\n",
    "Connecticut\t1.57\n",
    "Delaware\t0.48\n",
    "District of Columbia\t0.57\n",
    "Florida\t0.67\n",
    "Georgia\t0.70\n",
    "Hawaii\t0.30\n",
    "Idaho\t0.46\n",
    "Illinois\t1.78\n",
    "Indiana\t0.74\n",
    "Iowa\t1.25\n",
    "Kansas\t1.15\n",
    "Kentucky\t0.60\n",
    "Louisiana\t0.53\n",
    "Maine\t0.89\n",
    "Maryland\t0.76\n",
    "Massachusetts\t0.94\n",
    "Michigan\t1.06\n",
    "Minnesota\t0.90\n",
    "Mississippi\t0.55\n",
    "Missouri\t0.82\n",
    "Montana\t0.65\n",
    "Nebraska\t1.36\n",
    "Nevada\t0.44\n",
    "New Hampshire\t1.28\n",
    "New Jersey\t1.79\n",
    "New Mexico\t0.60\n",
    "New York\t1.26\n",
    "North Carolina\t0.52\n",
    "North Dakota\t0.90\n",
    "Ohio\t1.27\n",
    "Oklahoma\t0.76\n",
    "Oregon\t0.78\n",
    "Pennsylvania\t1.29\n",
    "Rhode Island\t1.01\n",
    "South Carolina\t0.46\n",
    "South Dakota\t1.03\n",
    "Tennessee\t0.42\n",
    "Texas\t1.25\n",
    "Utah\t0.44\n",
    "Vermont\t1.43\n",
    "Virginia\t0.72\n",
    "Washington\t0.70\n",
    "West Virginia\t0.47\n",
    "Wisconsin\t1.15\n",
    "Wyoming\t0.64"
   ]
  }
 ],
 "metadata": {
  "kernelspec": {
   "display_name": "Python 3 (ipykernel)",
   "language": "python",
   "name": "python3"
  },
  "language_info": {
   "codemirror_mode": {
    "name": "ipython",
    "version": 3
   },
   "file_extension": ".py",
   "mimetype": "text/x-python",
   "name": "python",
   "nbconvert_exporter": "python",
   "pygments_lexer": "ipython3",
   "version": "3.9.5"
  }
 },
 "nbformat": 4,
 "nbformat_minor": 5
}
