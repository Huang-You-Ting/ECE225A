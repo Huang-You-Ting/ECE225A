{
 "cells": [
  {
   "cell_type": "code",
   "execution_count": 3,
   "id": "630f45e4",
   "metadata": {},
   "outputs": [],
   "source": [
    "import csv\n",
    "import numpy as np\n",
    "import pandas as pd\n",
    "import matplotlib.pyplot as plt\n",
    "from collections import Counter\n"
   ]
  },
  {
   "cell_type": "markdown",
   "id": "75e70213",
   "metadata": {},
   "source": [
    "### Read out address data and price data from csv"
   ]
  },
  {
   "cell_type": "code",
   "execution_count": 7,
   "id": "912ab43c",
   "metadata": {},
   "outputs": [],
   "source": [
    "df = pd.read_csv('./housing/USA_Housing.csv')\n",
    "\n",
    "# area_income = df.loc[:, ['']]\n",
    "# area_income = area_income.values\n",
    "# area_income = area_income[~np.isnan(area_income)]\n",
    "\n",
    "housing_price = df.loc[:, ['Estimate!!Median value (dollars)']]\n",
    "housing_price = housing_price.values\n",
    "housing_price = housing_price[~np.isnan(housing_price)]\n",
    "\n",
    "address = df.loc[:, ['Geographic Area Name']]\n",
    "address = address.values\n",
    "\n",
    "# address = address.tolist()\n"
   ]
  },
  {
   "cell_type": "code",
   "execution_count": null,
   "id": "38746852",
   "metadata": {},
   "outputs": [],
   "source": []
  },
  {
   "cell_type": "markdown",
   "id": "57fc5e40",
   "metadata": {},
   "source": [
    "### split address into city, state, and postal code"
   ]
  },
  {
   "cell_type": "code",
   "execution_count": 11,
   "id": "15c37bee",
   "metadata": {},
   "outputs": [],
   "source": [
    "cities = []\n",
    "states = []\n",
    "\n",
    "\n",
    "for addr in address:\n",
    "    addr = addr[0]\n",
    "    if addr.find(', ') != -1 :\n",
    "        [city, state] = addr.split(', ', 2)\n",
    "        \n",
    "    cities.append(city)\n",
    "    states.append(state)\n"
   ]
  },
  {
   "cell_type": "code",
   "execution_count": null,
   "id": "c98f0310",
   "metadata": {},
   "outputs": [],
   "source": []
  }
 ],
 "metadata": {
  "kernelspec": {
   "display_name": "Python 3 (ipykernel)",
   "language": "python",
   "name": "python3"
  },
  "language_info": {
   "codemirror_mode": {
    "name": "ipython",
    "version": 3
   },
   "file_extension": ".py",
   "mimetype": "text/x-python",
   "name": "python",
   "nbconvert_exporter": "python",
   "pygments_lexer": "ipython3",
   "version": "3.9.5"
  }
 },
 "nbformat": 4,
 "nbformat_minor": 5
}
