{
 "cells": [
  {
   "cell_type": "markdown",
   "id": "ab5c628f",
   "metadata": {},
   "source": [
    "### Function 1"
   ]
  },
  {
   "cell_type": "code",
   "execution_count": 1,
   "id": "b99d0ad8",
   "metadata": {},
   "outputs": [
    {
     "name": "stdout",
     "output_type": "stream",
     "text": [
      "      AREA_TITLE                              OCC_TITLE   TOT_EMP  \\\n",
      "95    California  Computer and Mathematical Occupations  695480.0   \n",
      "992        Texas  Computer and Mathematical Occupations  444670.0   \n",
      "739     New York  Computer and Mathematical Occupations  284680.0   \n",
      "1061    Virginia  Computer and Mathematical Occupations  241590.0   \n",
      "1084  Washington  Computer and Mathematical Occupations  204330.0   \n",
      "\n",
      "      EMP_PERCENTAGE  A_MEDIAN  WEIGHTED_MEDIAN_SALARY  \n",
      "95         13.862495    128690            17839.645126  \n",
      "992         8.863283     94560             8381.119994  \n",
      "739         5.674319    106360             6035.205332  \n",
      "1061        4.815437    109910             5292.646966  \n",
      "1084        4.072761    128220             5222.093845  \n"
     ]
    }
   ],
   "source": [
    "import pandas as pd\n",
    "\n",
    "def calculate_salary_impact(occupation_title, data):\n",
    "    # Convert 'TOT_EMP' to numeric, setting errors to NaN\n",
    "    data['TOT_EMP'] = pd.to_numeric(data['TOT_EMP'], errors='coerce')\n",
    "\n",
    "    # Convert 'A_MEDIAN' to numeric, setting errors to NaN\n",
    "    data['A_MEDIAN'] = pd.to_numeric(data['A_MEDIAN'], errors='coerce')\n",
    "\n",
    "    # Filter the data for the specified occupation\n",
    "    filtered_data = data[data['OCC_TITLE'] == occupation_title]\n",
    "\n",
    "    # Exclude rows where 'TOT_EMP' or 'A_MEDIAN' is NaN\n",
    "    filtered_data = filtered_data[filtered_data['TOT_EMP'].notna() & filtered_data['A_MEDIAN'].notna()]\n",
    "\n",
    "    # Calculate total US employment for this occupation\n",
    "    total_us_employment = filtered_data['TOT_EMP'].sum()\n",
    "\n",
    "    # Calculate the percentage of employment for each state\n",
    "    filtered_data['EMP_PERCENTAGE'] = (filtered_data['TOT_EMP'] / total_us_employment) * 100\n",
    "\n",
    "    # Calculate the weighted median salary for each state based on employment percentage\n",
    "    filtered_data['WEIGHTED_MEDIAN_SALARY'] = filtered_data['EMP_PERCENTAGE'] * filtered_data['A_MEDIAN'] / 100\n",
    "    \n",
    "#     return filtered_data.sort_values(by='WEIGHTED_MEDIAN_SALARY', ascending=False)\n",
    "\n",
    "    return filtered_data[['AREA_TITLE', 'OCC_TITLE', 'TOT_EMP', 'EMP_PERCENTAGE', 'A_MEDIAN', 'WEIGHTED_MEDIAN_SALARY']].sort_values(by='WEIGHTED_MEDIAN_SALARY', ascending=False)\n",
    "\n",
    "# Load your CSV file\n",
    "file_path = 'filtered_state_M2022_dl.csv'  # Replace with the path to your CSV file\n",
    "data = pd.read_csv(file_path)\n",
    "\n",
    "# Specify the occupation title\n",
    "occupation_title = \"Computer and Mathematical Occupations\"  # Replace with the desired occupation title\n",
    "\n",
    "# Get the result\n",
    "weighted_salary_result = calculate_salary_impact(occupation_title, data)\n",
    "sorted_weighted_salary_result = calculate_salary_impact(occupation_title, data)\n",
    "print(weighted_salary_result.head())  # This will display the first few rows of the result\n"
   ]
  },
  {
   "cell_type": "markdown",
   "id": "5cfbc1f0",
   "metadata": {},
   "source": [
    "### Function3"
   ]
  },
  {
   "cell_type": "code",
   "execution_count": 2,
   "id": "20ce805b",
   "metadata": {},
   "outputs": [
    {
     "name": "stdout",
     "output_type": "stream",
     "text": [
      "The tax rate for 100000 in California is: 9.3%\n",
      "The tax rate for 100000 in Federal is: 24.0%\n"
     ]
    }
   ],
   "source": [
    "import pandas as pd\n",
    "import re\n",
    "\n",
    "# Load the file\n",
    "new_file_path = 'filtered_income_tax_2022_manual.csv'  # Replace with your file path\n",
    "new_tax_data = pd.read_csv(new_file_path)\n",
    "\n",
    "# Function to find the tax rate\n",
    "def find_tax_rate(state, income, data):\n",
    "    \"\"\"\n",
    "    Find the tax rate based on state and income.\n",
    "\n",
    "    Args:\n",
    "    state (str): The state name.\n",
    "    income (float): The income amount.\n",
    "    data (DataFrame): The DataFrame with tax information.\n",
    "\n",
    "    Returns:\n",
    "    float: The corresponding tax rate.\n",
    "    \"\"\"\n",
    "    # Filter data for the specific state\n",
    "    state_data = data[data['State'].str.contains(state, case=False, na=False)]\n",
    "\n",
    "    # Sort by Bracket to ensure correct order\n",
    "    state_data = state_data.sort_values(by='Bracket')\n",
    "\n",
    "    # Initialize default rate\n",
    "    rate = None\n",
    "\n",
    "    # Find the correct bracket for the given income\n",
    "    for index, row in state_data.iterrows():\n",
    "        if income > row['Bracket']:\n",
    "            rate = row['Rates']\n",
    "        else:\n",
    "            break\n",
    "\n",
    "    return rate\n",
    "\n",
    "# Example usage\n",
    "test_state = 'California'\n",
    "test_income = 100000\n",
    "tax_rate = find_tax_rate(test_state, test_income, new_tax_data)\n",
    "print(f\"The tax rate for {test_income} in {test_state} is: {tax_rate * 100}%\")\n",
    "test_state = 'Federal'\n",
    "tax_rate = find_tax_rate(test_state, test_income, new_tax_data)\n",
    "print(f\"The tax rate for {test_income} in {test_state} is: {tax_rate * 100}%\")"
   ]
  },
  {
   "cell_type": "code",
   "execution_count": null,
   "id": "e5902a7a",
   "metadata": {},
   "outputs": [],
   "source": []
  }
 ],
 "metadata": {
  "kernelspec": {
   "display_name": "Python 3 (clean)",
   "language": "python",
   "name": "python3_clean"
  },
  "language_info": {
   "codemirror_mode": {
    "name": "ipython",
    "version": 3
   },
   "file_extension": ".py",
   "mimetype": "text/x-python",
   "name": "python",
   "nbconvert_exporter": "python",
   "pygments_lexer": "ipython3",
   "version": "3.9.5"
  }
 },
 "nbformat": 4,
 "nbformat_minor": 5
}
