{
 "cells": [
  {
   "cell_type": "code",
   "execution_count": 1,
   "id": "72c218b4",
   "metadata": {},
   "outputs": [
    {
     "name": "stderr",
     "output_type": "stream",
     "text": [
      "/home/yoh010/.local/lib/python3.9/site-packages/pandas/core/computation/expressions.py:21: UserWarning: Pandas requires version '2.8.0' or newer of 'numexpr' (version '2.7.3' currently installed).\n",
      "  from pandas.core.computation.check import NUMEXPR_INSTALLED\n",
      "/home/yoh010/.local/lib/python3.9/site-packages/pandas/core/arrays/masked.py:62: UserWarning: Pandas requires version '1.3.4' or newer of 'bottleneck' (version '1.3.2' currently installed).\n",
      "  from pandas.core import (\n"
     ]
    }
   ],
   "source": [
    "import csv\n",
    "import numpy as np\n",
    "import pandas as pd\n",
    "import matplotlib.pyplot as plt\n",
    "from collections import Counter"
   ]
  },
  {
   "cell_type": "code",
   "execution_count": 2,
   "id": "252c6327",
   "metadata": {},
   "outputs": [],
   "source": [
    "def salary_growing_by_year(state, occ_code, display=0):\n",
    "    df = pd.read_csv('./filtered_state_M2022_dl.csv')\n",
    "    result = df.loc[(df['AREA_TITLE'] == state) & (df['OCC_CODE'] == occ_code)]\n",
    "    A_PCT10 = int(result['A_PCT10'].values[0])\n",
    "    A_PCT25 = int(result['A_PCT25'].values[0])\n",
    "    A_MEDIAN = int(result['A_MEDIAN'].values[0])\n",
    "    if result['A_PCT75'].values[0] == '#':\n",
    "#         print('##')\n",
    "        A_PCT75 = 2*A_MEDIAN - A_PCT25\n",
    "    else:\n",
    "        A_PCT75 = int(result['A_PCT75'].values[0])\n",
    "\n",
    "    if result['A_PCT90'].values[0] == '#':\n",
    "#         print('##')\n",
    "        A_PCT90 = 2*A_PCT75 - A_MEDIAN\n",
    "    else:\n",
    "        A_PCT90 = int(result['A_PCT90'].values[0])\n",
    "    # A_PCT90\n",
    "    x = np.array([0, 5, 10, 15, 20])\n",
    "    y = np.array([A_PCT10, A_PCT25, A_MEDIAN, A_PCT75, A_PCT90])\n",
    "    \n",
    "    coeff = np.polyfit(x, y, 3)\n",
    "    \n",
    "    coeff = np.polyfit(x, y, 3)\n",
    "\n",
    "    if display :\n",
    "        # Generate values for the curve\n",
    "        x_curve = np.linspace(0, 20, 100)\n",
    "        poly_function = np.poly1d(coeff)\n",
    "        y_curve = poly_function(x_curve)\n",
    "\n",
    "        # Plotting the original data points and the fitted curve\n",
    "        plt.figure(figsize=(8, 6))\n",
    "        plt.scatter(x, y, label='Original Data Points')\n",
    "        plt.plot(x_curve, y_curve, color='red', label='Fitted Curve')\n",
    "        plt.xlabel('Years')\n",
    "        plt.ylabel('Salaries')\n",
    "        plt.title(f'Fitted Polynomial Curve for')\n",
    "        plt.legend()\n",
    "        plt.grid(True)\n",
    "        plt.show()\n",
    "\n",
    "    return coeff"
   ]
  },
  {
   "cell_type": "code",
   "execution_count": 3,
   "id": "8aa881ac",
   "metadata": {},
   "outputs": [],
   "source": [
    "# df.loc[df['A_MEDIAN'] == '#']"
   ]
  },
  {
   "cell_type": "code",
   "execution_count": 4,
   "id": "881a3b9b",
   "metadata": {},
   "outputs": [
    {
     "data": {
      "image/png": "[encoded data removed]",
      "text/plain": [
       "<Figure size 576x432 with 1 Axes>"
      ]
     },
     "metadata": {
      "needs_background": "light"
     },
     "output_type": "display_data"
    }
   ],
   "source": [
    "state = 'California'\n",
    "occ_code = '51-0000'\n",
    "coeff = salary_growing_by_year(state, occ_code, display = 1)"
   ]
  },
  {
   "cell_type": "code",
   "execution_count": 5,
   "id": "af1d2d78",
   "metadata": {},
   "outputs": [
    {
     "data": {
      "text/plain": [
       "array([1.7000e+00, 5.6800e+01, 3.2850e+02, 3.2059e+04])"
      ]
     },
     "execution_count": 5,
     "metadata": {},
     "output_type": "execute_result"
    }
   ],
   "source": [
    "coeff"
   ]
  },
  {
   "cell_type": "code",
   "execution_count": 6,
   "id": "0ac0028e",
   "metadata": {},
   "outputs": [
    {
     "data": {
      "text/plain": [
       "1.700000000000014"
      ]
     },
     "execution_count": 6,
     "metadata": {},
     "output_type": "execute_result"
    }
   ],
   "source": [
    "coeff[0]"
   ]
  }
 ],
 "metadata": {
  "kernelspec": {
   "display_name": "Python 3 (ipykernel)",
   "language": "python",
   "name": "python3"
  },
  "language_info": {
   "codemirror_mode": {
    "name": "ipython",
    "version": 3
   },
   "file_extension": ".py",
   "mimetype": "text/x-python",
   "name": "python",
   "nbconvert_exporter": "python",
   "pygments_lexer": "ipython3",
   "version": "3.9.5"
  }
 },
 "nbformat": 4,
 "nbformat_minor": 5
}
