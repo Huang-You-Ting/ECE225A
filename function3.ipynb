{
 "cells": [
  {
   "cell_type": "code",
   "execution_count": null,
   "id": "7fc4f131",
   "metadata": {},
   "outputs": [],
   "source": []
  },
  {
   "cell_type": "code",
   "execution_count": null,
   "id": "5201256b",
   "metadata": {},
   "outputs": [],
   "source": []
  },
  {
   "cell_type": "code",
   "execution_count": null,
   "id": "b9deda92",
   "metadata": {},
   "outputs": [],
   "source": []
  },
  {
   "cell_type": "code",
   "execution_count": null,
   "id": "c8bfd63f",
   "metadata": {},
   "outputs": [],
   "source": []
  },
  {
   "cell_type": "code",
   "execution_count": null,
   "id": "0a8f24d9",
   "metadata": {},
   "outputs": [],
   "source": []
  },
  {
   "cell_type": "code",
   "execution_count": null,
   "id": "cf1f9ceb",
   "metadata": {},
   "outputs": [],
   "source": []
  },
  {
   "cell_type": "code",
   "execution_count": null,
   "id": "6e4b3d21",
   "metadata": {},
   "outputs": [],
   "source": [
    "import pandas as pd\n",
    "import re\n",
    "\n",
    "# Load the file\n",
    "new_file_path = 'filtered_income_tax_2022_manual.csv'  # Replace with your file path\n",
    "new_tax_data = pd.read_csv(new_file_path)\n",
    "\n",
    "# Function to find the tax rate\n",
    "def find_tax_rate(state, income, data):\n",
    "    \"\"\"\n",
    "    Find the tax rate based on state and income.\n",
    "\n",
    "    Args:\n",
    "    state (str): The state name.\n",
    "    income (float): The income amount.\n",
    "    data (DataFrame): The DataFrame with tax information.\n",
    "\n",
    "    Returns:\n",
    "    float: The corresponding tax rate.\n",
    "    \"\"\"\n",
    "    # Filter data for the specific state\n",
    "    state_data = data[data['State'].str.contains(state, case=False, na=False)]\n",
    "\n",
    "    # Sort by Bracket to ensure correct order\n",
    "    state_data = state_data.sort_values(by='Bracket')\n",
    "\n",
    "    # Initialize default rate\n",
    "    rate = None\n",
    "\n",
    "    # Find the correct bracket for the given income\n",
    "    for index, row in state_data.iterrows():\n",
    "        if income > row['Bracket']:\n",
    "            rate = row['Rates']\n",
    "        else:\n",
    "            break\n",
    "\n",
    "    return rate\n",
    "\n",
    "# Example usage\n",
    "test_state = 'Alabama'\n",
    "test_income = 1\n",
    "tax_rate = find_tax_rate(test_state, test_income, new_tax_data)\n",
    "print(f\"The tax rate for {test_income} in {test_state} is: {tax_rate * 100}%\")\n"
   ]
  },
  {
   "cell_type": "code",
   "execution_count": null,
   "id": "660fe027",
   "metadata": {},
   "outputs": [],
   "source": [
    "from sympy import symbols\n",
    "\n",
    "# Define the variables\n",
    "y = symbols('y')  # Year\n",
    "AI = y**3 + 2*y**2 + 3*y + 4  # Annual income function (third-order polynomial)\n",
    "\n",
    "# Constants\n",
    "RET = 0.03  # Real estate tax rate (3%)\n",
    "PIM = 0.25  # Percentage of Income for Mortgage (25%)\n",
    "MHP = 300000  # Median Housing Price\n",
    "MHP_percent = 0.95  # Mortgage Percentage of Housing Price (95%)\n",
    "IT = 0.20  # Income Tax rate (20%)\n",
    "FIR = 0.005  # Federal Interest Rate (0.5%)\n",
    "\n",
    "# Initial Mortgage Amount\n",
    "initial_mortgage = MHP * MHP_percent\n",
    "\n",
    "# Function to calculate annual mortgage payment for a given year\n",
    "def annual_mortgage_payment(year):\n",
    "    income = AI.subs(y, year)\n",
    "    after_tax_income = income * (1 - IT)  # Income after income tax\n",
    "    after_all_taxes_income = after_tax_income - (MHP * RET)  # Income after all taxes\n",
    "    return after_all_taxes_income * PIM\n",
    "\n",
    "# Calculating the number of years to pay off the mortgage\n",
    "remaining_mortgage = initial_mortgage\n",
    "year = 1\n",
    "while remaining_mortgage > 0:\n",
    "    payment = annual_mortgage_payment(year)\n",
    "    remaining_mortgage = remaining_mortgage + (remaining_mortgage * FIR) - payment\n",
    "    year += 1\n",
    "\n",
    "year - 1  # Subtract 1 to get the final year of payment\n"
   ]
  }
 ],
 "metadata": {
  "kernelspec": {
   "display_name": "Python 3 (clean)",
   "language": "python",
   "name": "python3_clean"
  },
  "language_info": {
   "codemirror_mode": {
    "name": "ipython",
    "version": 3
   },
   "file_extension": ".py",
   "mimetype": "text/x-python",
   "name": "python",
   "nbconvert_exporter": "python",
   "pygments_lexer": "ipython3",
   "version": "3.9.5"
  }
 },
 "nbformat": 4,
 "nbformat_minor": 5
}
